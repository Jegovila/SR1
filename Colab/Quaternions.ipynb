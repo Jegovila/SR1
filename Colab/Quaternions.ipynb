{
  "nbformat": 4,
  "nbformat_minor": 0,
  "metadata": {
    "colab": {
      "provenance": [],
      "authorship_tag": "ABX9TyM3nSXxKokG6+gaz646wKoQ",
      "include_colab_link": true
    },
    "kernelspec": {
      "name": "python3",
      "display_name": "Python 3"
    },
    "language_info": {
      "name": "python"
    }
  },
  "cells": [
    {
      "cell_type": "markdown",
      "metadata": {
        "id": "view-in-github",
        "colab_type": "text"
      },
      "source": [
        "<a href=\"https://colab.research.google.com/github/Jegovila/SR1/blob/main/Colab/Quaternions.ipynb\" target=\"_parent\"><img src=\"https://colab.research.google.com/assets/colab-badge.svg\" alt=\"Open In Colab\"/></a>"
      ]
    },
    {
      "cell_type": "code",
      "source": [
        "!pip install pyquaternion"
      ],
      "metadata": {
        "collapsed": true,
        "id": "Yk1-sL3lCbsd"
      },
      "execution_count": null,
      "outputs": []
    },
    {
      "cell_type": "code",
      "execution_count": 31,
      "metadata": {
        "id": "3pSPhHD4CST6"
      },
      "outputs": [],
      "source": [
        "from pyquaternion import Quaternion\n",
        "import matplotlib.pyplot as plt\n",
        "import numpy as np\n",
        "from IPython import display\n"
      ]
    },
    {
      "cell_type": "code",
      "source": [
        "np.set_printoptions(suppress=True)\n",
        "v = np.array([0,0.5,0.5])\n",
        "\n",
        "q1 = Quaternion(axis=[1,0,0], angle=np.pi/2)\n",
        "\n",
        "vp = q1.rotate(v)\n",
        "print(vp)"
      ],
      "metadata": {
        "id": "7H8CLfpRC1aF"
      },
      "execution_count": null,
      "outputs": []
    },
    {
      "cell_type": "markdown",
      "source": [
        "Graficar"
      ],
      "metadata": {
        "id": "vyASUSi5EVah"
      }
    },
    {
      "cell_type": "code",
      "source": [
        "ax = plt.figure().add_subplot(projection='3d')\n",
        "\n",
        "ax.plot([0,1],[0,0],[0,0], color = 'r')\n",
        "ax.plot([0,0],[0,1],[0,0], color = 'g')\n",
        "ax.plot([0,0],[0,0],[0,1], color = 'b')\n",
        "\n",
        "ax.plot([0,v[0]],[0,v[1]],[0,v[2]],color='m')\n",
        "ax.plot([0,vp[0]],[0,vp[1]],[0,vp[2]],color='k')\n",
        "\n",
        "ax.set_xlabel('X')\n",
        "ax.set_ylabel('Y')\n",
        "ax.set_zlabel('Z')\n",
        "\n",
        "elev = 10\n",
        "azim = 45\n",
        "ax.view_init(elev, azim)"
      ],
      "metadata": {
        "id": "K2XpoSQeEWYv"
      },
      "execution_count": null,
      "outputs": []
    },
    {
      "cell_type": "markdown",
      "source": [
        "# SLERP"
      ],
      "metadata": {
        "id": "3Bx-nVUaoOoe"
      }
    },
    {
      "cell_type": "markdown",
      "source": [
        "Definir entre qué cuaterniones queremos interpolar"
      ],
      "metadata": {
        "id": "WTdzAmyRoRb_"
      }
    },
    {
      "cell_type": "code",
      "source": [
        "# Cuaterniones inicial\n",
        "axis_q1 = np.array([0,0,1])\n",
        "axis_q2 = np.array([0,0,1])\n",
        "angle_q1 = 0\n",
        "angle_q2 = np.pi/2\n",
        "q1 = Quaternion([np.cos(angle_q1/2), *tuple(np.sin(angle_q1/2) * axis_q1) ])\n",
        "q2 = Quaternion([np.cos(angle_q2/2), *tuple(np.sin(angle_q2/2) * axis_q2) ])\n",
        "\n",
        "diff = q2 * q1.inverse"
      ],
      "metadata": {
        "id": "JBqE1YR5oXgX"
      },
      "execution_count": 128,
      "outputs": []
    },
    {
      "cell_type": "markdown",
      "source": [
        "También se puede definir los cuaterniones con la siguiente sintaxis\n",
        "\n",
        "`q1 = Quaternion(axis=[1, 0, 0], angle=3.14159265)`\n",
        "\n",
        "Y recordar que si $q_1$ es un cuaternión unitario, `q1.inverse` es igual a\n",
        "\n",
        "`q1 = ([q1[0], -q1[1], -q1[2], -q[3]) `"
      ],
      "metadata": {
        "id": "iKJZlZgroYwh"
      }
    },
    {
      "cell_type": "code",
      "source": [
        "# Inicializar figura y ejes\n",
        "fig = plt.figure()\n",
        "ax = fig.add_subplot(projection='3d')\n",
        "\n",
        "# Líneas para los ejes\n",
        "ax.plot([0,1],[0,0],[0,0], color = 'r')\n",
        "ax.plot([0,0],[0,1],[0,0], color = 'g')\n",
        "ax.plot([0,0],[0,0],[0,1], color = 'b')\n",
        "\n",
        "# Vector a rotar\n",
        "v = np.array([1, 0, 0])\n",
        "line, = ax.plot([0, v[0]], [0, v[1]], [0, v[2]], color='k')\n",
        "\n",
        "\n",
        "angle = np.arccos(diff[0]) * 2\n",
        "eje = np.array([ diff[1] / np.sin(angle/2),\n",
        "               diff[2] / np.sin(angle/2),\n",
        "                diff[3] / np.sin(angle/2)])\n",
        "\n",
        "\n",
        "for i in range(100):\n",
        "  newAngle = angle * (i/100)\n",
        "  qt = Quaternion([np.cos(newAngle/2), *tuple(np.sin(newAngle/2) * eje) ])\n",
        "  vt = qt.rotate(v)\n",
        "\n",
        "\n",
        "  line.set_data_3d([0, vt[0]], [0, vt[1]], [0, vt[2]])\n",
        "  ax.view_init(elev=10, azim=300)  # Rotar la vista\n",
        "\n",
        "\n",
        "  display.display(plt.gcf())\n",
        "  display.clear_output(wait=True)\n"
      ],
      "metadata": {
        "id": "_WEbo__dHgS1"
      },
      "execution_count": null,
      "outputs": []
    }
  ]
}