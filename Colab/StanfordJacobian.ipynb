{
  "nbformat": 4,
  "nbformat_minor": 0,
  "metadata": {
    "colab": {
      "provenance": [],
      "authorship_tag": "ABX9TyPwDHPfs5gCd/fPUAXU0SlV",
      "include_colab_link": true
    },
    "kernelspec": {
      "name": "python3",
      "display_name": "Python 3"
    },
    "language_info": {
      "name": "python"
    }
  },
  "cells": [
    {
      "cell_type": "markdown",
      "metadata": {
        "id": "view-in-github",
        "colab_type": "text"
      },
      "source": [
        "<a href=\"https://colab.research.google.com/github/Jegovila/SR1/blob/main/Colab/StanfordJacobian.ipynb\" target=\"_parent\"><img src=\"https://colab.research.google.com/assets/colab-badge.svg\" alt=\"Open In Colab\"/></a>"
      ]
    },
    {
      "cell_type": "code",
      "execution_count": null,
      "metadata": {
        "id": "qEenh7X8eecE"
      },
      "outputs": [],
      "source": [
        "from sympy import Symbol, cos, sin, Matrix, simplify\n",
        "from sympy.vector import *\n",
        "import numpy as np"
      ]
    },
    {
      "cell_type": "markdown",
      "source": [
        "Jacobiano del Stanford Arm\n",
        "\n",
        "Declarar las variables simbólicas"
      ],
      "metadata": {
        "id": "CZN9tZ-ZxMHX"
      }
    },
    {
      "cell_type": "code",
      "source": [
        "theta1 = Symbol('theta1')\n",
        "theta2 = Symbol('theta2')\n",
        "d2 = Symbol('d2')\n",
        "d3 = Symbol('d3')\n",
        "theta4 = Symbol('theta4')\n",
        "theta5 = Symbol('theta5')\n",
        "theta6 = Symbol('theta6')\n",
        "d6 = Symbol('d6')"
      ],
      "metadata": {
        "id": "lwuiDRhhxLkO"
      },
      "execution_count": null,
      "outputs": []
    },
    {
      "cell_type": "markdown",
      "source": [
        "Matrices A"
      ],
      "metadata": {
        "id": "pv5Zxxi1x1YY"
      }
    },
    {
      "cell_type": "code",
      "source": [
        "A1 = Matrix([[cos(theta1), 0, -sin(theta1), 0],[sin(theta1), 0, cos(theta1), 0],[0, -1, 0, 0],[0, 0, 0, 1]])\n",
        "A2 = Matrix([[cos(theta2), 0, sin(theta2), 0],[sin(theta2), 0, -cos(theta2), 0],[0, 1, 0, d2],[0, 0, 0, 1]])\n",
        "A3 = Matrix([[1, 0, 0, 0],[0, 1, 0, 0],[0, 0, 1, d3],[0, 0, 0, 1]])\n",
        "A4 = Matrix([[cos(theta4), 0, -sin(theta4), 0],[sin(theta4), 0, cos(theta4), 0],[0, -1, 0, 0],[0, 0, 0, 1]])\n",
        "A5 = Matrix([[cos(theta5), 0, sin(theta5), 0],[sin(theta5), 0, -cos(theta5), 0],[0, 1, 0, 0],[0, 0, 0, 1]])\n",
        "A6 = Matrix([[cos(theta6), -sin(theta6), 0, 0],[sin(theta6), cos(theta6), 0, 0],[0, 0, 1, d6],[0, 0, 0, 1]])"
      ],
      "metadata": {
        "id": "8zFWOxbiyBOv"
      },
      "execution_count": null,
      "outputs": []
    },
    {
      "cell_type": "markdown",
      "source": [
        "Mostramos una matriz"
      ],
      "metadata": {
        "id": "61Kow-Gq30HC"
      }
    },
    {
      "cell_type": "code",
      "source": [
        "A4"
      ],
      "metadata": {
        "id": "WAQK1elh3yX1"
      },
      "execution_count": null,
      "outputs": []
    },
    {
      "cell_type": "markdown",
      "source": [
        "Matrices T"
      ],
      "metadata": {
        "id": "1aXuzL5m3E4f"
      }
    },
    {
      "cell_type": "code",
      "source": [
        "T01 = A1\n",
        "T02 = T01 * A2\n",
        "T03 = T02 * A3\n",
        "T04 = T03 * A4\n",
        "T05 = T04 * A5\n",
        "T06 = T05 * A6\n",
        "\n",
        "print(\"Matriz de cinemática directa T06 \\n\\n\")\n",
        "T06"
      ],
      "metadata": {
        "id": "1qLXgxbY3GpV"
      },
      "execution_count": null,
      "outputs": []
    },
    {
      "cell_type": "markdown",
      "source": [
        "Vectores $\\hat z_i$ Recordar que por DH, siempre inicializamos en $[0,0,1]^T$"
      ],
      "metadata": {
        "id": "Mb_0FIIa4PkL"
      }
    },
    {
      "cell_type": "code",
      "source": [
        "Z0 = Matrix([[0],[0],[1]]) # Inicialización\n",
        "Z1 = T01[:3,2]\n",
        "Z2 = T02[:3,2]\n",
        "Z3 = T03[:3,2]\n",
        "Z4 = T04[:3,2]\n",
        "Z5 = T05[:3,2]\n",
        "Z6 = T06[:3,2]"
      ],
      "metadata": {
        "id": "tD26tMI14aTv"
      },
      "execution_count": null,
      "outputs": []
    },
    {
      "cell_type": "markdown",
      "source": [
        "Vectores $P$ Recordar que inicializamos con respecto a la base $[0, 0, 0]^T$"
      ],
      "metadata": {
        "id": "3w_mLnUb5VEt"
      }
    },
    {
      "cell_type": "code",
      "source": [
        "P0 = Matrix([[0],[0],[0]]) # Inicialización\n",
        "P1 = T01[:3,3]\n",
        "P2 = T02[:3,3]\n",
        "P3 = T03[:3,3]\n",
        "P4 = T04[:3,3]\n",
        "P5 = T05[:3,3]\n",
        "P6 = T06[:3,3]"
      ],
      "metadata": {
        "id": "4XCEULJC5fh2"
      },
      "execution_count": null,
      "outputs": []
    },
    {
      "cell_type": "markdown",
      "source": [
        "Armar el Jacobiano para cada articulación"
      ],
      "metadata": {
        "id": "BnE73bqg5xRF"
      }
    },
    {
      "cell_type": "markdown",
      "source": [
        "Articulaciones de Revolución:\n",
        "\n",
        "$J_v = [\\hat z_{i-1} \\times (P_n - P_{i-1})]$\n",
        "\n",
        "$J_\\omega = \\hat z_{i-1}$\n",
        "\n",
        "Articulaciones Prismáticas\n",
        "\n",
        "$J_v = \\hat z_{i-1}$\n",
        "\n",
        "$J_\\omega = \\begin{bmatrix}\n",
        "0\\\\\n",
        "0\\\\\n",
        "0\n",
        "\\end{bmatrix}$\n"
      ],
      "metadata": {
        "id": "wkn7P1aW-HEU"
      }
    },
    {
      "cell_type": "code",
      "source": [
        "# Revolución\n",
        "Jv1 = Matrix(np.cross(np.array(Z0).reshape(3), np.array((P6-P0)).reshape(3)))\n",
        "Jw1 = Z0\n",
        "\n",
        "# Revolución\n",
        "Jv2 = Matrix(np.cross(np.array(Z1).reshape(3), np.array((P6-P1)).reshape(3)))\n",
        "Jw2 = Z1\n",
        "\n",
        "# Prismática\n",
        "Jv3 = Z2\n",
        "Jw3 = Matrix([[0],[0],[0]])\n",
        "\n",
        "# Revolución\n",
        "Jv4 = Matrix(np.cross(np.array(Z3).reshape(3), np.array((P6-P3)).reshape(3)))\n",
        "Jw4 = Z3\n",
        "\n",
        "# Revolución\n",
        "Jv5 = Matrix(np.cross(np.array(Z4).reshape(3), np.array((P6-P4)).reshape(3)))\n",
        "Jw5 = Z4\n",
        "\n",
        "# Revolución\n",
        "Jv6 = Matrix(np.cross(np.array(Z5).reshape(3), np.array((P6-P5)).reshape(3)))\n",
        "Jw6 = Z5"
      ],
      "metadata": {
        "id": "wojkdd5c53hR"
      },
      "execution_count": null,
      "outputs": []
    },
    {
      "cell_type": "markdown",
      "source": [
        "Armar Jacobiano completo"
      ],
      "metadata": {
        "id": "v5i0DPKH_WcJ"
      }
    },
    {
      "cell_type": "code",
      "source": [
        "J = Matrix([[Jv1, Jv2, Jv3, Jv4, Jv5, Jv6],[Jw1, Jw2, Jw3, Jw4, Jw5, Jw6]])\n",
        "J"
      ],
      "metadata": {
        "id": "d4sgTF7E_dEX"
      },
      "execution_count": null,
      "outputs": []
    }
  ]
}