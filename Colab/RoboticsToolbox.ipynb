{
  "nbformat": 4,
  "nbformat_minor": 0,
  "metadata": {
    "colab": {
      "provenance": [],
      "authorship_tag": "ABX9TyOSCZc49dkKhA7toVgNL9p9",
      "include_colab_link": true
    },
    "kernelspec": {
      "name": "python3",
      "display_name": "Python 3"
    },
    "language_info": {
      "name": "python"
    }
  },
  "cells": [
    {
      "cell_type": "markdown",
      "metadata": {
        "id": "view-in-github",
        "colab_type": "text"
      },
      "source": [
        "<a href=\"https://colab.research.google.com/github/Jegovila/SR1/blob/main/Colab/RoboticsToolbox.ipynb\" target=\"_parent\"><img src=\"https://colab.research.google.com/assets/colab-badge.svg\" alt=\"Open In Colab\"/></a>"
      ]
    },
    {
      "cell_type": "code",
      "execution_count": null,
      "metadata": {
        "id": "qEenh7X8eecE"
      },
      "outputs": [],
      "source": [
        "!pip install roboticstoolbox-python\n",
        "!pip install ipympl"
      ]
    },
    {
      "cell_type": "code",
      "source": [
        "# Cambiar el backend para que se muestren los plots\n",
        "%matplotlib widget\n",
        "\n",
        "# Imports\n",
        "import matplotlib.pyplot as plt\n",
        "import roboticstoolbox as rtb\n",
        "from roboticstoolbox import RevoluteDH, PrismaticDH, DHRobot, DHLink\n",
        "from spatialmath import SE3\n",
        "import numpy as np\n",
        "\n",
        "# Para desplegar los widgets\n",
        "from google.colab import output\n",
        "output.enable_custom_widget_manager()"
      ],
      "metadata": {
        "id": "leVg32z812sC"
      },
      "execution_count": null,
      "outputs": []
    },
    {
      "cell_type": "markdown",
      "source": [
        "# Contruir el Robot"
      ],
      "metadata": {
        "id": "uGQSvgw0C0zu"
      }
    },
    {
      "cell_type": "markdown",
      "source": [
        "**Hay dos formas de definir un robot:**\n",
        "\n",
        "1. Con **PrismaticDH** o **RevoluteDH**.\n",
        "\n",
        "Solo introducir los valores que sean diferentes de cero."
      ],
      "metadata": {
        "id": "VK3qrMtU_2--"
      }
    },
    {
      "cell_type": "code",
      "source": [
        "qlim_j1 = [-np.pi/4, np.pi/4]\n",
        "qlim_j2 = [0, 0.5]\n",
        "qlim_j3 = [0, 0.5]\n",
        "\n",
        "bot = DHRobot(\n",
        "    [\n",
        "        RevoluteDH(d=0.5, qlim=qlim_j1),\n",
        "        PrismaticDH(alpha=-np.pi/2, theta=-np.pi/2, offset=0.2, qlim=qlim_j2),\n",
        "        PrismaticDH(offset=0.2, qlim=qlim_j3)\n",
        "    ], name=\"mibot\")"
      ],
      "metadata": {
        "id": "Db20-TYivpYJ"
      },
      "execution_count": null,
      "outputs": []
    },
    {
      "cell_type": "markdown",
      "source": [
        "2. Con DHLink, en donde habrá que especificar con la variable sigma, el tipo de articulación:\n",
        "\n",
        "> **1 - Prismática**\n",
        "\n",
        "> **0 - Revolución**"
      ],
      "metadata": {
        "id": "KluYojg4AO83"
      }
    },
    {
      "cell_type": "code",
      "source": [
        "bot = DHRobot(\n",
        "    [\n",
        "        DHLink(d=0.5, sigma=0),\n",
        "        DHLink(alpha=-np.pi/2, theta=-np.pi/2, offset=0.2, qlim=[0,0.5], sigma=1),\n",
        "        DHLink(offset=0.2, qlim=[0,0.5], sigma=1)\n",
        "    ], name=\"mibot\")"
      ],
      "metadata": {
        "id": "2BGuRWqP6GYd"
      },
      "execution_count": null,
      "outputs": []
    },
    {
      "cell_type": "markdown",
      "source": [
        "**Nota:** Los límites de las articulaciones \"qlim\" son necesarias si se queire calcular la cinemática inversa con \"ikine\" y para graficar el espacio de trabajo."
      ],
      "metadata": {
        "id": "WRyd16QDClWv"
      }
    },
    {
      "cell_type": "markdown",
      "source": [
        "Imprimir la tabla DH del robot"
      ],
      "metadata": {
        "id": "y7gLfRyHC7Fx"
      }
    },
    {
      "cell_type": "code",
      "source": [
        "bot"
      ],
      "metadata": {
        "id": "g4EEXMEDzHfu"
      },
      "execution_count": null,
      "outputs": []
    },
    {
      "cell_type": "markdown",
      "source": [
        "También podemos imprimir solo un Link:"
      ],
      "metadata": {
        "id": "B0TMbzcdDDk8"
      }
    },
    {
      "cell_type": "code",
      "source": [
        "bot[1] # Segundo Link"
      ],
      "metadata": {
        "id": "lNK4zTWFDFw3"
      },
      "execution_count": null,
      "outputs": []
    },
    {
      "cell_type": "markdown",
      "source": [
        "Graficar robot"
      ],
      "metadata": {
        "id": "2Va6AO7SZMFt"
      }
    },
    {
      "cell_type": "code",
      "source": [
        "q = [0.1,0.2,0.3]\n",
        "bot.plot(q)"
      ],
      "metadata": {
        "id": "TjItdUeN1X_5"
      },
      "execution_count": null,
      "outputs": []
    },
    {
      "cell_type": "markdown",
      "source": [
        "# Cinemática Directa"
      ],
      "metadata": {
        "id": "d0CXpD5RGdDK"
      }
    },
    {
      "cell_type": "code",
      "source": [
        "q = [0.1,0.2,0.3]\n",
        "T = bot.fkine(q)\n",
        "print(\"T=\")\n",
        "print(T)\n",
        "\n",
        "# # Matriz T por columnas\n",
        "# print(T.n)\n",
        "# print(T.o)\n",
        "# print(T.a)\n",
        "# print(T.t)"
      ],
      "metadata": {
        "id": "Sn7n4bwUzNct"
      },
      "execution_count": null,
      "outputs": []
    },
    {
      "cell_type": "markdown",
      "source": [
        "También se puede obtener a transformación entre cualquier frame.\n",
        "\n",
        "```robot.A(j, q)``` Transformación entre frames {0} y {j}.\n",
        "\n",
        "```robot.A([j1, j2], q)``` Ejemplo entre {j1} y {j2}."
      ],
      "metadata": {
        "id": "sqy__SWEQVQi"
      }
    },
    {
      "cell_type": "code",
      "source": [
        "A1 = bot.A([0,0],q)\n",
        "A2 = bot.A([1,1],q)\n",
        "A3 = bot.A([2,2],q)\n",
        "print(A1 @ A2 @ A3)"
      ],
      "metadata": {
        "id": "r6pY2pvrQPWk"
      },
      "execution_count": null,
      "outputs": []
    },
    {
      "cell_type": "markdown",
      "source": [
        "## Espacio de trabajo"
      ],
      "metadata": {
        "id": "P3zFP7jJWOVd"
      }
    },
    {
      "cell_type": "markdown",
      "source": [
        "Las siguientes líneas grafican las posiciones que alcanza el robot. Cada ciclo es para una articulación."
      ],
      "metadata": {
        "id": "LKWodre1FPVn"
      }
    },
    {
      "cell_type": "code",
      "source": [
        "fig = plt.figure()\n",
        "ax = fig.add_subplot(111, projection='3d')\n",
        "\n",
        "for i in np.arange(qlim_j1[0], qlim_j1[1], .2):\n",
        "  for j in np.arange(qlim_j2[0], qlim_j2[1], 0.1):\n",
        "    for k in np.arange(qlim_j3[0], qlim_j3[1], 0.1):\n",
        "      T = bot.fkine([i,j,k])\n",
        "      ax.scatter(T.t[0], T.t[1], T.t[2], s=10, c='red')\n",
        "plt.show()"
      ],
      "metadata": {
        "id": "rTFOgw7CWRVF"
      },
      "execution_count": null,
      "outputs": []
    },
    {
      "cell_type": "markdown",
      "source": [
        "# Cinemática inversa"
      ],
      "metadata": {
        "id": "jUEhzwEARmqE"
      }
    },
    {
      "cell_type": "markdown",
      "source": [
        "La orientación y la posición deseada deben ser objetos SE3"
      ],
      "metadata": {
        "id": "FIePW_MfD6f-"
      }
    },
    {
      "cell_type": "code",
      "source": [
        "Td = SE3.Trans(0.3,0,0.8) * SE3.Rz(-np.pi/2) * SE3.Rx(-np.pi/2)\n",
        "print(Td)\n",
        "\n",
        "sol = bot.ikine_LM(Td, joint_limits=True)\n",
        "print(sol)"
      ],
      "metadata": {
        "id": "fxoQZDIEzWUY"
      },
      "execution_count": null,
      "outputs": []
    },
    {
      "cell_type": "markdown",
      "source": [
        "Para animar la trayectoria desde una configuración inicial $q_i$ a la solución calculada. La variable \"movie\" nos guardará un gif que muestra mejor la animación."
      ],
      "metadata": {
        "id": "shWJQf5CEeth"
      }
    },
    {
      "cell_type": "code",
      "source": [
        "qi = [0, 0, 0]\n",
        "qt = rtb.jtraj(qi, sol.q, 50)\n",
        "bot.plot(qt.q, backend='pyplot', movie=\"mibot.gif\")"
      ],
      "metadata": {
        "id": "yy5dnoKOBQTK"
      },
      "execution_count": null,
      "outputs": []
    },
    {
      "cell_type": "markdown",
      "source": [
        "# Cinemática diferencial"
      ],
      "metadata": {
        "id": "IfscDNEbV0SF"
      }
    },
    {
      "cell_type": "markdown",
      "source": [
        "Para calcular el Jacobiano con respecto a la base"
      ],
      "metadata": {
        "id": "GTMQJlYsWHsh"
      }
    },
    {
      "cell_type": "code",
      "source": [
        "q = [0, 0, 0]\n",
        "J = bot.jacob0(q)\n",
        "print(J)"
      ],
      "metadata": {
        "id": "EzvC20_84WsI"
      },
      "execution_count": null,
      "outputs": []
    },
    {
      "cell_type": "markdown",
      "source": [
        "Para el cálculo de las velocidades se requiere el vector de coordenadas generalizadas $q$ y las velocidades articulares $\\dot q$"
      ],
      "metadata": {
        "id": "tH6AKVwUGbXI"
      }
    },
    {
      "cell_type": "code",
      "source": [
        "q = [0, 0, 0]\n",
        "q_dot = [0.1, 0, 0.3]\n",
        "\n",
        "J = bot.jacob0(q)\n",
        "v = J @ q_dot\n",
        "print(v)"
      ],
      "metadata": {
        "id": "jYAOdF0IBjVl"
      },
      "execution_count": null,
      "outputs": []
    },
    {
      "cell_type": "markdown",
      "source": [
        "## Cinemática Diferencial Inversa"
      ],
      "metadata": {
        "id": "JXhfv2ydH91s"
      }
    },
    {
      "cell_type": "markdown",
      "source": [
        "Cálculo de la cinemática inversa utilizando la cinemática diferencial inversa."
      ],
      "metadata": {
        "id": "D4IziUcYILtw"
      }
    },
    {
      "cell_type": "markdown",
      "source": [
        "Primero es necesario definir una función que convierta una Transformación SE3 a un vector de movimiento. La transformación va de $T_0$ a $T_1$"
      ],
      "metadata": {
        "id": "wbECqffhzk2S"
      }
    },
    {
      "cell_type": "code",
      "source": [
        "def tr2delta(T0, T1):\n",
        "    delta = np.array([T1[:3, 3]-T0[:3, 3], 0.5*(np.cross(T0[:3, 0], T1[:3, 0])\n",
        "                                                + np.cross(T0[:3, 1], T1[:3, 1]) + np.cross(T0[:3, 2], T1[:3, 2]))])\n",
        "    return delta"
      ],
      "metadata": {
        "id": "hWhDXEjrzt8l"
      },
      "execution_count": null,
      "outputs": []
    },
    {
      "cell_type": "markdown",
      "source": [
        "$T_0$ es la base, $T_d$ es la transformación final deseada. Se calcula el vector delta deseado $x_d$"
      ],
      "metadata": {
        "id": "CzozgW-41OkO"
      }
    },
    {
      "cell_type": "code",
      "source": [
        "T0 = SE3.Rx(0)\n",
        "Td = SE3.Trans(0.3,0,0.8) * SE3.Rz(-np.pi/2) * SE3.Rx(-np.pi/2)\n",
        "\n",
        "T0 = np.array(T0)\n",
        "Td = np.array(Td)\n",
        "\n",
        "xd = tr2delta(T0, Td)\n",
        "xd = xd.reshape((6))\n",
        "print(xd)"
      ],
      "metadata": {
        "id": "hT0AOStkIXzD"
      },
      "execution_count": null,
      "outputs": []
    },
    {
      "cell_type": "markdown",
      "source": [
        "Se calcula ahora el vector delta actual $x$"
      ],
      "metadata": {
        "id": "IEFWU6Nk1bvo"
      }
    },
    {
      "cell_type": "code",
      "source": [
        "qi = [0, 0, 0]\n",
        "\n",
        "T0 = SE3.Rx(0)\n",
        "T = bot.fkine(qi)\n",
        "\n",
        "T0 = np.array(T0)\n",
        "T = np.array(T)\n",
        "\n",
        "x = tr2delta(T0, T)\n",
        "x = x.reshape((6))\n",
        "print(x)"
      ],
      "metadata": {
        "id": "Yzv8h93X1jm-"
      },
      "execution_count": null,
      "outputs": []
    },
    {
      "cell_type": "markdown",
      "source": [
        "Cinemática Diferencial Inversa"
      ],
      "metadata": {
        "id": "dtYE22lp13vN"
      }
    },
    {
      "cell_type": "code",
      "source": [
        "iter = 200\n",
        "q = qi\n",
        "\n",
        "for i in range(iter):\n",
        "\n",
        "  # Cálculo de x actual\n",
        "  T = np.array(bot.fkine(q))\n",
        "  x = tr2delta(T0, T).reshape((6))\n",
        "\n",
        "  # Error\n",
        "  e = xd - x\n",
        "\n",
        "  J = bot.jacob0(q)\n",
        "\n",
        "  # Pseudoinversa del Jacobiano (O transpuesta)\n",
        "  Ji = np.linalg.pinv(J)\n",
        "  #Ji = np.transpose(J)\n",
        "\n",
        "  qp = .02 * (Ji @ e)\n",
        "  q = q + qp\n",
        "\n",
        "solution = q\n",
        "print(solution)"
      ],
      "metadata": {
        "id": "worogtk12C36"
      },
      "execution_count": null,
      "outputs": []
    },
    {
      "cell_type": "markdown",
      "source": [
        "Por último, trazar su trayectoria"
      ],
      "metadata": {
        "id": "iFGGt2k07PVN"
      }
    },
    {
      "cell_type": "code",
      "source": [
        "qt = rtb.jtraj(qi, solution, 50)\n",
        "bot.plot(qt.q, backend='pyplot', movie=\"mibot.gif\")"
      ],
      "metadata": {
        "id": "ivetIj8u7Rfw"
      },
      "execution_count": null,
      "outputs": []
    }
  ]
}