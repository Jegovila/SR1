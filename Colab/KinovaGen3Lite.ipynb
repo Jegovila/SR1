{
  "nbformat": 4,
  "nbformat_minor": 0,
  "metadata": {
    "colab": {
      "provenance": [],
      "collapsed_sections": [
        "uGQSvgw0C0zu",
        "d0CXpD5RGdDK",
        "P3zFP7jJWOVd",
        "jUEhzwEARmqE",
        "IfscDNEbV0SF",
        "JXhfv2ydH91s"
      ],
      "authorship_tag": "ABX9TyM+M6tt04zs55iMGLRm8t2y",
      "include_colab_link": true
    },
    "kernelspec": {
      "name": "python3",
      "display_name": "Python 3"
    },
    "language_info": {
      "name": "python"
    }
  },
  "cells": [
    {
      "cell_type": "markdown",
      "metadata": {
        "id": "view-in-github",
        "colab_type": "text"
      },
      "source": [
        "<a href=\"https://colab.research.google.com/github/Jegovila/SR1/blob/main/Colab/KinovaGen3Lite.ipynb\" target=\"_parent\"><img src=\"https://colab.research.google.com/assets/colab-badge.svg\" alt=\"Open In Colab\"/></a>"
      ]
    },
    {
      "cell_type": "code",
      "execution_count": null,
      "metadata": {
        "id": "qEenh7X8eecE"
      },
      "outputs": [],
      "source": [
        "!pip install roboticstoolbox-python\n",
        "!pip install ipympl"
      ]
    },
    {
      "cell_type": "code",
      "source": [
        "# Cambiar el backend para que se muestren los plots\n",
        "%matplotlib widget\n",
        "\n",
        "# Imports\n",
        "import matplotlib.pyplot as plt\n",
        "import roboticstoolbox as rtb\n",
        "from roboticstoolbox import RevoluteDH, PrismaticDH, DHRobot, DHLink\n",
        "from spatialmath import SE3\n",
        "import numpy as np\n",
        "\n",
        "# Para desplegar los widgets\n",
        "from google.colab import output\n",
        "output.enable_custom_widget_manager()"
      ],
      "metadata": {
        "id": "leVg32z812sC"
      },
      "execution_count": 3,
      "outputs": []
    },
    {
      "cell_type": "markdown",
      "source": [
        "# Contruir el Robot"
      ],
      "metadata": {
        "id": "uGQSvgw0C0zu"
      }
    },
    {
      "cell_type": "code",
      "source": [
        "qlim_j1 = [np.deg2rad(-154.1), np.deg2rad(154.1)]\n",
        "qlim_j2 = [np.deg2rad(-150.1), np.deg2rad(150.1)]\n",
        "qlim_j3 = [np.deg2rad(-150.1), np.deg2rad(150.1)]\n",
        "qlim_j4 = [np.deg2rad(-148.98), np.deg2rad(148.98)]\n",
        "qlim_j5 = [np.deg2rad(-144.97), np.deg2rad(145)]\n",
        "qlim_j6 = [np.deg2rad(-148.98), np.deg2rad(148.98)]\n",
        "\n",
        "kinova = DHRobot(\n",
        "    [\n",
        "        RevoluteDH(alpha = np.pi/2, d = (.1283 + .115), qlim=qlim_j1),\n",
        "        RevoluteDH(alpha = np.pi, a = .280, d = 0.03, offset = np.pi/2, qlim=qlim_j2),\n",
        "        RevoluteDH(alpha = np.pi/2, d = 0.02, offset = np.pi/2, qlim=qlim_j3),\n",
        "        RevoluteDH(alpha = np.pi/2, d = (.14 + .105), offset = np.pi/2, qlim=qlim_j4),\n",
        "        RevoluteDH(alpha = np.pi/2, d = (.0285 + .0285), offset = np.pi, qlim=qlim_j5),\n",
        "        RevoluteDH(d = (.105 + .13), offset = np.pi/2, qlim=qlim_j6)\n",
        "    ], name=\"mibot\")"
      ],
      "metadata": {
        "id": "Db20-TYivpYJ"
      },
      "execution_count": 6,
      "outputs": []
    },
    {
      "cell_type": "markdown",
      "source": [
        "**Nota:** Los límites de las articulaciones \"qlim\" son necesarias si se queire calcular la cinemática inversa con \"ikine\" y para graficar el espacio de trabajo."
      ],
      "metadata": {
        "id": "WRyd16QDClWv"
      }
    },
    {
      "cell_type": "markdown",
      "source": [
        "Imprimir la tabla DH del robot"
      ],
      "metadata": {
        "id": "y7gLfRyHC7Fx"
      }
    },
    {
      "cell_type": "code",
      "source": [
        "kinova"
      ],
      "metadata": {
        "id": "g4EEXMEDzHfu"
      },
      "execution_count": null,
      "outputs": []
    },
    {
      "cell_type": "markdown",
      "source": [
        "Graficar robot"
      ],
      "metadata": {
        "id": "2Va6AO7SZMFt"
      }
    },
    {
      "cell_type": "code",
      "source": [
        "q = [0, 0, 0, 0, 0, 0]\n",
        "kinova.plot(q)"
      ],
      "metadata": {
        "id": "TjItdUeN1X_5"
      },
      "execution_count": null,
      "outputs": []
    },
    {
      "cell_type": "markdown",
      "source": [
        "# Cinemática Directa"
      ],
      "metadata": {
        "id": "d0CXpD5RGdDK"
      }
    },
    {
      "cell_type": "code",
      "source": [
        "q = [0, 0, 0, 0, 0, 0]\n",
        "T = kinova.fkine(q)\n",
        "print(\"T=\")\n",
        "print(T)"
      ],
      "metadata": {
        "id": "Sn7n4bwUzNct"
      },
      "execution_count": null,
      "outputs": []
    },
    {
      "cell_type": "markdown",
      "source": [
        "## Espacio de trabajo"
      ],
      "metadata": {
        "id": "P3zFP7jJWOVd"
      }
    },
    {
      "cell_type": "markdown",
      "source": [
        "Las siguientes líneas grafican las posiciones que alcanza el robot. Cada ciclo es para una articulación."
      ],
      "metadata": {
        "id": "LKWodre1FPVn"
      }
    },
    {
      "cell_type": "code",
      "source": [
        "fig = plt.figure()\n",
        "ax = fig.add_subplot(111, projection='3d')\n",
        "\n",
        "for i in np.arange(qlim_j1[0], qlim_j1[1], 1):\n",
        "  for j in np.arange(qlim_j2[0], qlim_j2[1], 1):\n",
        "    for k in np.arange(qlim_j3[0], qlim_j3[1], 1):\n",
        "      for l in np.arange(qlim_j4[0], qlim_j4[1], 1):\n",
        "        for m in np.arange(qlim_j5[0], qlim_j5[1], 1):\n",
        "          #for n in np.arange(qlim_j6[0], qlim_j6[1], 1):\n",
        "          T = kinova.fkine([i,j,k,l,m,0])\n",
        "          ax.scatter(T.t[0], T.t[1], T.t[2], s=1, c='red')\n",
        "plt.show()"
      ],
      "metadata": {
        "id": "rTFOgw7CWRVF"
      },
      "execution_count": null,
      "outputs": []
    },
    {
      "cell_type": "markdown",
      "source": [
        "# Cinemática inversa"
      ],
      "metadata": {
        "id": "jUEhzwEARmqE"
      }
    },
    {
      "cell_type": "markdown",
      "source": [
        "La orientación y la posición deseada deben ser objetos SE3"
      ],
      "metadata": {
        "id": "FIePW_MfD6f-"
      }
    },
    {
      "cell_type": "code",
      "source": [
        "Td = SE3.Trans(0.4, 0, 0.4) * SE3.Ry(np.pi/2) * SE3.Rx(-np.pi/2)\n",
        "print(\"T deseada \\n\")\n",
        "print(Td)\n",
        "\n",
        "sol = kinova.ikine_LM(Td, joint_limits=True)\n",
        "print(sol)\n",
        "\n",
        "T = kinova.fkine(sol.q)\n",
        "print(\"\\nT final \\n\")\n",
        "print(T)"
      ],
      "metadata": {
        "id": "fxoQZDIEzWUY"
      },
      "execution_count": null,
      "outputs": []
    },
    {
      "cell_type": "markdown",
      "source": [
        "Para animar la trayectoria desde una configuración inicial $q_i$ a la solución calculada. La variable \"movie\" nos guardará un gif que muestra mejor la animación."
      ],
      "metadata": {
        "id": "shWJQf5CEeth"
      }
    },
    {
      "cell_type": "code",
      "source": [
        "qi = [0, 0, 0, 0, 0, 0]\n",
        "qt = rtb.jtraj(qi, sol.q, 50)\n",
        "kinova.plot(qt.q, backend='pyplot', movie=\"mibot.gif\")"
      ],
      "metadata": {
        "id": "yy5dnoKOBQTK"
      },
      "execution_count": null,
      "outputs": []
    },
    {
      "cell_type": "markdown",
      "source": [
        "# Cinemática diferencial"
      ],
      "metadata": {
        "id": "IfscDNEbV0SF"
      }
    },
    {
      "cell_type": "markdown",
      "source": [
        "Para calcular el Jacobiano con respecto a la base"
      ],
      "metadata": {
        "id": "GTMQJlYsWHsh"
      }
    },
    {
      "cell_type": "code",
      "source": [
        "q = [0, 0, 0, 0, 0, 0]\n",
        "J = kinova.jacob0(q)\n",
        "print(J)"
      ],
      "metadata": {
        "id": "EzvC20_84WsI"
      },
      "execution_count": null,
      "outputs": []
    },
    {
      "cell_type": "markdown",
      "source": [
        "Para el cálculo de las velocidades se requiere el vector de coordenadas generalizadas $q$ y las velocidades articulares $\\dot q$"
      ],
      "metadata": {
        "id": "tH6AKVwUGbXI"
      }
    },
    {
      "cell_type": "code",
      "source": [
        "q = [0, 0, 0, 0, 0, 0]\n",
        "q_dot = [0.1, 0, 0.3, 0, 0, 0]\n",
        "\n",
        "J = kinova.jacob0(q)\n",
        "v = J @ q_dot\n",
        "print(v)"
      ],
      "metadata": {
        "id": "jYAOdF0IBjVl"
      },
      "execution_count": null,
      "outputs": []
    },
    {
      "cell_type": "markdown",
      "source": [
        "## Cinemática Diferencial Inversa"
      ],
      "metadata": {
        "id": "JXhfv2ydH91s"
      }
    },
    {
      "cell_type": "markdown",
      "source": [
        "Cálculo de la cinemática inversa utilizando la cinemática diferencial inversa."
      ],
      "metadata": {
        "id": "D4IziUcYILtw"
      }
    },
    {
      "cell_type": "markdown",
      "source": [
        "Primero es necesario definir una función que convierta una Transformación SE3 a un vector de movimiento. La transformación va de $T_0$ a $T_1$"
      ],
      "metadata": {
        "id": "wbECqffhzk2S"
      }
    },
    {
      "cell_type": "code",
      "source": [
        "def tr2delta(T0, T1):\n",
        "    delta = np.array([T1[:3, 3]-T0[:3, 3], 0.5*(np.cross(T0[:3, 0], T1[:3, 0])\n",
        "                                                + np.cross(T0[:3, 1], T1[:3, 1]) + np.cross(T0[:3, 2], T1[:3, 2]))])\n",
        "    return delta"
      ],
      "metadata": {
        "id": "hWhDXEjrzt8l"
      },
      "execution_count": 49,
      "outputs": []
    },
    {
      "cell_type": "markdown",
      "source": [
        "$T_0$ es la base, $T_d$ es la transformación final deseada. Se calcula el vector delta deseado $x_d$"
      ],
      "metadata": {
        "id": "CzozgW-41OkO"
      }
    },
    {
      "cell_type": "code",
      "source": [
        "T0 = SE3.Rx(0)\n",
        "Td = SE3.Trans(0.4, 0, 0.4) * SE3.Ry(np.pi/2) * SE3.Rx(-np.pi/2)\n",
        "\n",
        "T0 = np.array(T0)\n",
        "Td = np.array(Td)\n",
        "\n",
        "xd = tr2delta(T0, Td)\n",
        "xd = xd.reshape((6))\n",
        "print(xd)"
      ],
      "metadata": {
        "id": "hT0AOStkIXzD"
      },
      "execution_count": null,
      "outputs": []
    },
    {
      "cell_type": "markdown",
      "source": [
        "Se calcula ahora el vector delta actual $x$"
      ],
      "metadata": {
        "id": "IEFWU6Nk1bvo"
      }
    },
    {
      "cell_type": "code",
      "source": [
        "qi = [0, 0, 0, 0, 0, 0]\n",
        "\n",
        "T0 = SE3.Rx(0)\n",
        "T = kinova.fkine(qi)\n",
        "\n",
        "T0 = np.array(T0)\n",
        "T = np.array(T)\n",
        "\n",
        "x = tr2delta(T0, T)\n",
        "x = x.reshape((6))\n",
        "print(x)"
      ],
      "metadata": {
        "id": "Yzv8h93X1jm-"
      },
      "execution_count": null,
      "outputs": []
    },
    {
      "cell_type": "markdown",
      "source": [
        "Cinemática Diferencial Inversa"
      ],
      "metadata": {
        "id": "dtYE22lp13vN"
      }
    },
    {
      "cell_type": "code",
      "source": [
        "iter = 1000\n",
        "q = qi\n",
        "\n",
        "for i in range(iter):\n",
        "\n",
        "  # Cálculo de x actual\n",
        "  T = np.array(kinova.fkine(q))\n",
        "  x = tr2delta(T0, T).reshape((6))\n",
        "\n",
        "  # Error\n",
        "  e = xd - x\n",
        "\n",
        "  J = kinova.jacob0(q)\n",
        "\n",
        "  # Pseudoinversa del Jacobiano (O transpuesta)\n",
        "  Ji = np.linalg.pinv(J)\n",
        "  #Ji = np.transpose(J)\n",
        "  #Ji = np.linalg.inv((np.transpose(J) @ J) + 4 * np.eye(np.max([J.shape[0], J.shape[1]]))) @ np.transpose(J)\n",
        "\n",
        "  ## SOLO RESOLVER POSICIÓN\n",
        "  # qp = .2 * (Ji[:,:3] @ e[:3])\n",
        "  # q[:3] = q[:3] + qp[:3]\n",
        "\n",
        "  ## RESOLVER POSICIÓN Y ORIENTACIÓN\n",
        "  qp = .2 * (Ji @ e)\n",
        "  q = q + qp\n",
        "\n",
        "solution = q\n",
        "print(solution)\n",
        "print(sol.q)"
      ],
      "metadata": {
        "id": "worogtk12C36"
      },
      "execution_count": null,
      "outputs": []
    },
    {
      "cell_type": "markdown",
      "source": [
        "Comparamos $T$ con $T_d$"
      ],
      "metadata": {
        "id": "Id4ch3mnUPA4"
      }
    },
    {
      "cell_type": "code",
      "source": [
        "print(\"T\\n\")\n",
        "print(kinova.fkine(solution))\n",
        "\n",
        "print(\"\\nT_d\\n\")\n",
        "print(Td)"
      ],
      "metadata": {
        "id": "AmyQucSrUSdF"
      },
      "execution_count": null,
      "outputs": []
    },
    {
      "cell_type": "markdown",
      "source": [
        "Por último, trazar su trayectoria"
      ],
      "metadata": {
        "id": "iFGGt2k07PVN"
      }
    },
    {
      "cell_type": "code",
      "source": [
        "qt = rtb.jtraj(qi, solution, 50)\n",
        "kinova.plot(qt.q, backend='pyplot', movie=\"mibot.gif\")"
      ],
      "metadata": {
        "id": "ivetIj8u7Rfw"
      },
      "execution_count": null,
      "outputs": []
    }
  ]
}